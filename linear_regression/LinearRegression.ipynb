{
 "cells": [
  {
   "cell_type": "markdown",
   "metadata": {},
   "source": [
    "## Some theory\n",
    "In statistics, linear regression is a statistical model which estimates the linear relationship between a scalar response and one or more explanatory variables (also known as dependent and independent variables). ~ \n",
    "[Wikipedia](https://en.wikipedia.org/wiki/Linear_regression) \n",
    "\n",
    "\n",
    "![linear regression](./linear_regression.jpg \"Linear Regression\") \n",
    "\n",
    "\n",
    "The graph above presents the liear relationshop between the dependent variable and independent variable. The blue line is referred to as the best-fit straight line. \n",
    "$$\n",
    "    Y_{i} = \\beta_{0} + \\beta_{1}X_{i}\n",
    "$$\n",
    "where: $Y_{i}$ - dependent variable, $\\beta_{0}$ - constant/intercept, $\\beta_{1}$ - slope/intercept, $X_{i}$ - independent variable.\n",
    "\n",
    "\n",
    "![linear regression symbols](./linear_regression_symbols.jpg \"Linear regression symbols\")\n",
    "\n",
    "\n",
    "The goal of the algorithm is to get the best values for $\\beta_{0}$ and $\\beta_{1}$ and it is obtained by minimazing the random error (residual) $\\epsilon_{i}$\n",
    "$$\n",
    "    \\epsilon_{i} = y_{predicted} - y_{i}\n",
    "$${epsilon_i}\n",
    "Generally in linear regression *Mean Squarred Error (MSE)* as cost function is used.\n",
    "So to obtain the best results one wants to minimaze the following function:\n",
    "$$\n",
    "    MSE = \\frac{1}{N} \\sum_{i=1}^{n} (y_{i} - (\\beta{1}x_{i} + \\beta_{0}))^2 \n",
    "$${MSE}\n",
    "To update those values we take their gradiends from the cost function. The gradients are obtained from partiar derivatives of MSE with respect to the parameters $\\beta_0$, $\\beta_1$:\n",
    "$$\n",
    "    \\frac{\\partial J}{\\partial \\beta_{0}} = \\frac{2}{n} \\sum_{i=1}^{n} (\\beta_{0} + \\beta_{1} * x_{i} - y_{i}) \\\\\n",
    "\n",
    "    \\frac{\\partial J}{\\partial \\beta_{1}} = \\frac{2}{n} \\sum_{i=1}^{n} (\\beta_{0} + \\beta_{1} * x_{i} - y_{i}) * x_{i}\n",
    "$$\n",
    "\n",
    "One way to minimize the function is to apply batch gradient descent algorithm. The values are updated in each iteration by a quotient of _learning rate_ $\\alpha$ and the calculated gradient:\n",
    "$$\n",
    "    \\beta_{0} = \\beta_{0} - \\alpha \\frac{\\partial J}{\\partial \\beta_{0}} \\\\\n",
    "    \\beta_{1} = \\beta_{1} - \\alpha \\frac{\\partial J}{\\partial \\beta_{1}}\n",
    "$$\n",
    "The gradient value is substracted as we want to go away from the growth of the function to the local minimum. \n",
    "[source](https://www.analyticsvidhya.com/blog/2021/10/everything-you-need-to-know-about-linear-regression/)\n",
    "\n",
    "The same analogy can be applied to multiple liear regression with data that has more dimmensions than two. Then the optimalization is need to be done accordingly for all parameters.\n",
    "In n-space the partial derivative is calculated w.r.t. each parameter and then the values are adjusted just like above.\n",
    "$$\n",
    "   J' =  \\begin{bmatrix} \\frac{\\partial J} {\\partial \\beta_{1}} \\\\ \\frac{\\partial J} {\\partial \\beta_{2}} \n",
    "   \\\\ \\vdots \\\\ \\frac{\\partial J} {\\partial \\beta_{n}} \\end{bmatrix}\n",
    "$$"
   ]
  },
  {
   "cell_type": "code",
   "execution_count": 1,
   "metadata": {},
   "outputs": [],
   "source": [
    "# imports\n",
    "import numpy as np \n",
    "import matplotlib.pyplot as plt\n",
    "from sklearn import datasets\n",
    "from sklearn.model_selection import train_test_split"
   ]
  },
  {
   "cell_type": "code",
   "execution_count": 17,
   "metadata": {},
   "outputs": [],
   "source": [
    "# Metric for linear regression\n",
    "def mse(y_test, y_pred):\n",
    "    return np.mean((y_test - y_pred) ** 2)\n",
    "\n",
    "class LinearRegression:\n",
    "    def __init__(self, learning_rate = 0.001, n_iterations=1000) -> None:\n",
    "        self.learning_rate = learning_rate\n",
    "        self.n_iterations = n_iterations\n",
    "        self.weights = None\n",
    "        self.bias = None\n",
    "        \n",
    "    def fit(self, X, y):\n",
    "        n_samples, n_features = X.shape\n",
    "        self.weights = np.zeros(n_features)\n",
    "        self.bias = 0\n",
    "        \n",
    "        for _ in range(self.n_iterations):\n",
    "        \n",
    "            y_pred = self.predict(X)\n",
    "            \n",
    "            dw = (1/n_samples) * np.dot(X.T, (y_pred - y))\n",
    "            db = (1/n_samples) * np.sum(y_pred - y)\n",
    "            \n",
    "            self.weights = self.weights - self.learning_rate * dw\n",
    "            self.bias = self.bias - self.learning_rate * db\n",
    "        \n",
    "    def predict(self, X):\n",
    "        y_pred = np.dot(X, self.weights) + self.bias\n",
    "        return y_pred\n",
    "    \n",
    "    def calculate_mse(self, X, y):\n",
    "        y_pred = self.predict(X)\n",
    "        metric = mse(y, y_pred)\n",
    "        return metric\n",
    "    \n",
    "    "
   ]
  },
  {
   "cell_type": "code",
   "execution_count": 19,
   "metadata": {},
   "outputs": [
    {
     "name": "stdout",
     "output_type": "stream",
     "text": [
      "[  20.50476935  142.7546496     9.84617977  -91.54741375  -27.30975983\n",
      "   50.5672884    46.61433976  -34.92302734 -289.12699629  -26.36081393\n",
      "  171.25986261   88.76973989 -197.98015036  -24.66035565   68.80268857\n",
      "  -80.54746507   43.02438483   99.41132308  187.11855381 -138.96811403]\n",
      "MSE: \n",
      "375.5456207849615\n"
     ]
    }
   ],
   "source": [
    "X, y = datasets.make_regression(n_samples=100, n_features=1, noise=20, random_state=1234)\n",
    "lr = LinearRegression(learning_rate=0.01, n_iterations=2000)\n",
    "X_train, X_test, y_train, y_test = train_test_split(X, y, test_size=0.2, random_state=1234)\n",
    "lr.fit(X_train, y_train)\n",
    "print(y_test)\n",
    "print(\"MSE: \")\n",
    "print(lr.calculate_mse(X_test, y_test))"
   ]
  },
  {
   "cell_type": "code",
   "execution_count": 22,
   "metadata": {},
   "outputs": [
    {
     "data": {
      "image/png": "[encoded data removed]",
      "text/plain": [
       "<Figure size 640x480 with 1 Axes>"
      ]
     },
     "metadata": {},
     "output_type": "display_data"
    }
   ],
   "source": [
    "cmap = plt.get_cmap('viridis')\n",
    "training_points = plt.scatter(X_train, y_train, color=cmap(0.9), s=10)\n",
    "testing_points = plt.scatter(X_test, y_test, color=cmap(0.5), s=10)\n",
    "plt.plot(X, lr.predict(X), color='red', linewidth=2, label=\"Prediction\")\n",
    "plt.show()\n"
   ]
  },
  {
   "cell_type": "code",
   "execution_count": null,
   "metadata": {},
   "outputs": [],
   "source": []
  }
 ],
 "metadata": {
  "kernelspec": {
   "display_name": ".venv",
   "language": "python",
   "name": "python3"
  },
  "language_info": {
   "codemirror_mode": {
    "name": "ipython",
    "version": 3
   },
   "file_extension": ".py",
   "mimetype": "text/x-python",
   "name": "python",
   "nbconvert_exporter": "python",
   "pygments_lexer": "ipython3",
   "version": "3.10.12"
  }
 },
 "nbformat": 4,
 "nbformat_minor": 2
}
